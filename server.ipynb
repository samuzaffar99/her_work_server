{
 "cells": [
  {
   "cell_type": "code",
   "execution_count": 1,
   "metadata": {},
   "outputs": [
    {
     "name": "stdout",
     "output_type": "stream",
     "text": [
      "Collecting firebase-admin\n",
      "  Downloading firebase_admin-5.0.3-py3-none-any.whl (113 kB)\n",
      "Collecting google-api-python-client>=1.7.8\n",
      "  Downloading google_api_python_client-2.24.0-py2.py3-none-any.whl (7.5 MB)\n",
      "Collecting google-cloud-firestore>=2.1.0\n",
      "  Downloading google_cloud_firestore-2.3.4-py2.py3-none-any.whl (232 kB)\n",
      "Collecting cachecontrol>=0.12.6\n",
      "  Downloading CacheControl-0.12.6-py2.py3-none-any.whl (19 kB)\n",
      "Collecting google-cloud-storage>=1.37.1\n",
      "  Downloading google_cloud_storage-1.42.3-py2.py3-none-any.whl (105 kB)\n",
      "Collecting google-api-core[grpc]<3.0.0dev,>=1.22.1\n",
      "  Downloading google_api_core-2.1.0-py2.py3-none-any.whl (94 kB)\n",
      "Requirement already satisfied: msgpack>=0.5.2 in c:\\users\\cools\\anaconda3\\lib\\site-packages (from cachecontrol>=0.12.6->firebase-admin) (1.0.2)\n",
      "Requirement already satisfied: requests in c:\\users\\cools\\anaconda3\\lib\\site-packages (from cachecontrol>=0.12.6->firebase-admin) (2.25.1)\n",
      "Requirement already satisfied: setuptools>=40.3.0 in c:\\users\\cools\\anaconda3\\lib\\site-packages (from google-api-core[grpc]<3.0.0dev,>=1.22.1->firebase-admin) (52.0.0.post20210125)\n",
      "Collecting googleapis-common-protos<2.0dev,>=1.6.0\n",
      "  Downloading googleapis_common_protos-1.53.0-py2.py3-none-any.whl (198 kB)\n",
      "Requirement already satisfied: google-auth<3.0dev,>=1.25.0 in c:\\users\\cools\\anaconda3\\lib\\site-packages (from google-api-core[grpc]<3.0.0dev,>=1.22.1->firebase-admin) (1.35.0)\n",
      "Requirement already satisfied: protobuf>=3.12.0 in c:\\users\\cools\\anaconda3\\lib\\site-packages (from google-api-core[grpc]<3.0.0dev,>=1.22.1->firebase-admin) (3.18.0)\n",
      "Requirement already satisfied: grpcio<2.0dev,>=1.33.2 in c:\\users\\cools\\anaconda3\\lib\\site-packages (from google-api-core[grpc]<3.0.0dev,>=1.22.1->firebase-admin) (1.40.0)\n",
      "Collecting google-auth-httplib2>=0.1.0\n",
      "  Downloading google_auth_httplib2-0.1.0-py2.py3-none-any.whl (9.3 kB)\n",
      "Collecting httplib2<1dev,>=0.15.0\n",
      "  Downloading httplib2-0.20.1-py3-none-any.whl (96 kB)\n",
      "Collecting uritemplate<4dev,>=3.0.0\n",
      "  Downloading uritemplate-3.0.1-py2.py3-none-any.whl (15 kB)\n",
      "Requirement already satisfied: pyasn1-modules>=0.2.1 in c:\\users\\cools\\anaconda3\\lib\\site-packages (from google-auth<3.0dev,>=1.25.0->google-api-core[grpc]<3.0.0dev,>=1.22.1->firebase-admin) (0.2.8)\n",
      "Requirement already satisfied: cachetools<5.0,>=2.0.0 in c:\\users\\cools\\anaconda3\\lib\\site-packages (from google-auth<3.0dev,>=1.25.0->google-api-core[grpc]<3.0.0dev,>=1.22.1->firebase-admin) (4.2.2)\n",
      "Requirement already satisfied: rsa<5,>=3.1.4 in c:\\users\\cools\\anaconda3\\lib\\site-packages (from google-auth<3.0dev,>=1.25.0->google-api-core[grpc]<3.0.0dev,>=1.22.1->firebase-admin) (4.7.2)\n",
      "Requirement already satisfied: six>=1.9.0 in c:\\users\\cools\\anaconda3\\lib\\site-packages (from google-auth<3.0dev,>=1.25.0->google-api-core[grpc]<3.0.0dev,>=1.22.1->firebase-admin) (1.15.0)\n",
      "Collecting google-cloud-core<3.0.0dev,>=1.4.1\n",
      "  Downloading google_cloud_core-2.1.0-py2.py3-none-any.whl (27 kB)\n",
      "Collecting proto-plus>=1.10.0\n",
      "  Downloading proto_plus-1.19.4-py3-none-any.whl (44 kB)\n",
      "Requirement already satisfied: packaging>=14.3 in c:\\users\\cools\\anaconda3\\lib\\site-packages (from google-cloud-firestore>=2.1.0->firebase-admin) (20.9)\n",
      "Collecting google-resumable-media<3.0dev,>=1.3.0\n",
      "  Downloading google_resumable_media-2.0.3-py2.py3-none-any.whl (75 kB)\n",
      "Collecting google-crc32c<2.0dev,>=1.0\n",
      "  Downloading google_crc32c-1.3.0-cp38-cp38-win_amd64.whl (27 kB)\n",
      "Requirement already satisfied: pyparsing<3,>=2.4.2 in c:\\users\\cools\\anaconda3\\lib\\site-packages (from httplib2<1dev,>=0.15.0->google-api-python-client>=1.7.8->firebase-admin) (2.4.7)\n",
      "Requirement already satisfied: pyasn1<0.5.0,>=0.4.6 in c:\\users\\cools\\anaconda3\\lib\\site-packages (from pyasn1-modules>=0.2.1->google-auth<3.0dev,>=1.25.0->google-api-core[grpc]<3.0.0dev,>=1.22.1->firebase-admin) (0.4.8)\n",
      "Requirement already satisfied: chardet<5,>=3.0.2 in c:\\users\\cools\\anaconda3\\lib\\site-packages (from requests->cachecontrol>=0.12.6->firebase-admin) (4.0.0)\n",
      "Requirement already satisfied: idna<3,>=2.5 in c:\\users\\cools\\anaconda3\\lib\\site-packages (from requests->cachecontrol>=0.12.6->firebase-admin) (2.10)\n",
      "Requirement already satisfied: urllib3<1.27,>=1.21.1 in c:\\users\\cools\\anaconda3\\lib\\site-packages (from requests->cachecontrol>=0.12.6->firebase-admin) (1.26.4)\n",
      "Requirement already satisfied: certifi>=2017.4.17 in c:\\users\\cools\\anaconda3\\lib\\site-packages (from requests->cachecontrol>=0.12.6->firebase-admin) (2020.12.5)\n",
      "Installing collected packages: googleapis-common-protos, httplib2, google-crc32c, google-api-core, uritemplate, proto-plus, google-resumable-media, google-cloud-core, google-auth-httplib2, google-cloud-storage, google-cloud-firestore, google-api-python-client, cachecontrol, firebase-admin\n",
      "Successfully installed cachecontrol-0.12.6 firebase-admin-5.0.3 google-api-core-2.1.0 google-api-python-client-2.24.0 google-auth-httplib2-0.1.0 google-cloud-core-2.1.0 google-cloud-firestore-2.3.4 google-cloud-storage-1.42.3 google-crc32c-1.3.0 google-resumable-media-2.0.3 googleapis-common-protos-1.53.0 httplib2-0.20.1 proto-plus-1.19.4 uritemplate-3.0.1\n"
     ]
    }
   ],
   "source": [
    "# !pip install --upgrade firebase-admin"
   ]
  },
  {
   "cell_type": "code",
   "execution_count": 1,
   "metadata": {},
   "outputs": [],
   "source": []
  },
  {
   "cell_type": "code",
   "execution_count": 2,
   "metadata": {},
   "outputs": [],
   "source": [
    "import firebase_admin\n",
    "from firebase_admin import credentials\n",
    "from firebase_admin import firestore\n",
    "\n",
    "# Use a service account\n",
    "cred = credentials.Certificate(r\"C:\\Users\\cools\\Downloads\\herwork-service.json\")\n",
    "firebase_admin.initialize_app(cred)\n",
    "\n",
    "db = firestore.client()"
   ]
  },
  {
   "cell_type": "code",
   "execution_count": 4,
   "metadata": {},
   "outputs": [],
   "source": [
    "users_ref = db.collection(u'users')\n",
    "docs = users_ref.stream()\n",
    "\n",
    "for doc in docs:\n",
    "    print(f'{doc.id} => {doc.to_dict()}')"
   ]
  },
  {
   "cell_type": "code",
   "execution_count": 6,
   "metadata": {},
   "outputs": [
    {
     "name": "stdout",
     "output_type": "stream",
     "text": [
      "EgcWuAmTbzvlkFUx0j6M => {'address': 'A-111 G, Block G, North Nazimabad', 'serviceName': 'Chef Mustafa Begum', 'offers': [], 'time': '', 'email': 'raheela.khan@gmail.com', 'serviceType': 'Software Development', 'contactNum': '03213210123'}\n",
      "ZvZ2cou1spIF1A5RHF3t => {'time': '', 'address': 'A-111 G, Block G, North Nazimabad', 'email': 'raheela.khan@gmail.com', 'offers': [{'available': True, 'description': 'Tasty Homemade Biryani', 'cost': '120', 'offerName': 'Biryani'}], 'serviceType': 'Food', 'serviceName': \"Chef Raheela's Kitchen\", 'contactNum': '03213210123'}\n",
      "mCcOqpwYwXF6BSdnproe => {'serviceType': 'Food', 'contactNum': '03213210123', 'serviceName': 'Chef Raheela', 'time': '', 'address': 'A-111 G, Block G, North Nazimabad', 'email': 'raheela.khan@gmail.com', 'offers': [{'description': 'Tasty Homemade Biryani', 'offerName': 'Biryani', 'available': True, 'cost': '120'}]}\n"
     ]
    }
   ],
   "source": [
    "services_ref = db.collection(u'services')\n",
    "docs = services_ref.stream()\n",
    "\n",
    "for doc in docs:\n",
    "    print(f'{doc.id} => {doc.to_dict()}')"
   ]
  },
  {
   "cell_type": "code",
   "execution_count": 5,
   "metadata": {},
   "outputs": [],
   "source": [
    "# doc_ref = db.collection(u'users').document(u'aturing')\n",
    "# doc_ref.set({\n",
    "#     u'first': u'Alan',\n",
    "#     u'middle': u'Mathison',\n",
    "#     u'last': u'Turing',\n",
    "#     u'born': 1912\n",
    "# })"
   ]
  }
 ],
 "metadata": {
  "interpreter": {
   "hash": "92276d61c3472c4965d848b4587d052762706bffc66db3224f4ee63e5477bca3"
  },
  "kernelspec": {
   "display_name": "Python 3.8.5 64-bit ('base': conda)",
   "name": "python3"
  },
  "language_info": {
   "codemirror_mode": {
    "name": "ipython",
    "version": 3
   },
   "file_extension": ".py",
   "mimetype": "text/x-python",
   "name": "python",
   "nbconvert_exporter": "python",
   "pygments_lexer": "ipython3",
   "version": "3.8.5"
  },
  "orig_nbformat": 4
 },
 "nbformat": 4,
 "nbformat_minor": 2
}
